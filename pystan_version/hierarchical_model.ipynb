{
 "cells": [
  {
   "cell_type": "code",
   "execution_count": 60,
   "metadata": {
    "collapsed": true
   },
   "outputs": [],
   "source": [
    "import os\n",
    "import pystan\n",
    "import pickle\n",
    "from hashlib import md5\n",
    "import numpy as np\n",
    "\n",
    "# to run the model run the main() function like shown below\n",
    "# run: test = main('hierarchical_normal_data.txt', 'hierarchical_model.txt', 5000, 10)\n",
    "# note: use help(test) to get information about the file you generated\n",
    "# relevant filenames: model_code --> hierarchical_model.txt, data --> hierarchical_normal_data.txt\n",
    "\n",
    "def read_in_data(file_name):\n",
    "    data = dict()\n",
    "    with open(file_name) as f:\n",
    "        content = f.readlines()\n",
    "    lines = [x.rstrip('\\n') for x in content]\n",
    "    for i in range(len(lines)):\n",
    "        lines[i] = lines[i].split()\n",
    "        if i <= 1:\n",
    "            lines[i][1:] = [int(x) for x in lines[i][1:]]\n",
    "            data[lines[i][0]] = lines[i][1:]\n",
    "        else:\n",
    "            lines[i][1:] = [float(x) for x in lines[i][1:]]\n",
    "            data[lines[i][0]] = lines[i][1:]\n",
    "    return data\n",
    "\n",
    "def read_in_model_code(file_name):\n",
    "    # read in model code\n",
    "    f = open(file_name, 'r+')\n",
    "    model_code = f.read()\n",
    "    return model_code\n",
    "\n",
    "def StanModel_cache(model_code, model_name=None, **kwargs):\n",
    "    \"\"\"Use just as you would `stan`\"\"\"\n",
    "    # this function makes sure to reuse models so we don't have to recompile c everytime\n",
    "    code_hash = md5(model_code.encode('ascii')).hexdigest() # give model some id derived from model code\n",
    "    if model_name is None:\n",
    "        cache_fn = 'cached-model-{}.pkl'.format(code_hash)\n",
    "    else:\n",
    "        cache_fn = 'cached-{}-{}.pkl'.format(model_name, code_hash)\n",
    "    try:\n",
    "        sm = pickle.load(open(cache_fn, 'rb')) # try to load model if it has been stored already\n",
    "    except:\n",
    "        sm = pystan.StanModel(model_code=model_code) # if model has not been stored compile it\n",
    "        with open(cache_fn, 'wb') as f: # and save it for future use\n",
    "            pickle.dump(sm, f)\n",
    "    else:\n",
    "        print(\"Using cached StanModel\") # if we reused the model print some message\n",
    "    return sm\n",
    "\n",
    "\n",
    "def initialize_model(model_code):\n",
    "    sm = StanModel_cache(model_code = model_code)\n",
    "    return sm\n",
    "\n",
    "def run_model(stan_model, data, n_iter, n_chains, n_warmup):\n",
    "    fit = stan_model.sampling(data = data, iter = n_iter, chains = n_chains, warmup = n_warmup)\n",
    "    return fit\n",
    "\n",
    "def write_samples_to_csv(fit_object):\n",
    "    # create path if it doesn't exist\n",
    "    mypath = 'output'\n",
    "    if not os.path.isdir(mypath):\n",
    "        os.makedirs(mypath)\n",
    "\n",
    "    # get first line of csv file as string (headers)\n",
    "    fitdict = fit_object.extract(permuted = False)\n",
    "    my_str = ''\n",
    "    for i in range(len(fit_object.sim['fnames_oi'][:-1])):\n",
    "        my_str += fit_object.sim['fnames_oi'][i] + ', '\n",
    "\n",
    "    my_str = my_str.rstrip(', ')\n",
    "    my_str += ' \\n'\n",
    "\n",
    "    # write samples to csv\n",
    "    for i in range(np.shape(fitdict)[1]):\n",
    "        with open('output/chain_' + str(i + 1) + '.csv', 'wb') as f:\n",
    "            f.write(str.encode(my_str))\n",
    "            np.savetxt(f, fitdict[:,i,:-1], delimiter=\",\", fmt = '%1.8f')\n",
    "    return\n",
    "\n",
    "def main(data_file, model_file, n_iter, n_chains, n_warmup):\n",
    "    # full run of the model with output in csv file named chain_[*].csv\n",
    "    data = read_in_data(data_file)\n",
    "    model = read_in_model_code(model_file)\n",
    "    sm = initialize_model(model)\n",
    "    fit = run_model(sm, data, n_iter, n_chains, n_warmup)\n",
    "    write_samples_to_csv(fit)\n",
    "    return fit"
   ]
  },
  {
   "cell_type": "code",
   "execution_count": 61,
   "metadata": {},
   "outputs": [
    {
     "ename": "ValueError",
     "evalue": "Failed to parse Stan model 'anon_model_e5039be6565bf91c47383a888ed725b9'. Error message:\nSYNTAX ERROR, MESSAGE(S) FROM PARSER:\n\n  error in 'unkown file name' at line 8, column 5\n  -------------------------------------------------\n     6:     real C[N[3]]; // values group C\n     7:     real D[N[4]]; // values group D\n     8:     print(A)\n            ^\n     9: }\n  -------------------------------------------------\n\nPARSER EXPECTED: <one of the following:\n  a variable declaration, beginning with type,\n      (int, real, vector, row_vector, matrix, unit_vector,\n       simplex, ordered, positive_ordered,\n       corr_matrix, cov_matrix,\n       cholesky_corr, cholesky_cov\n  or '}' to close variable declarations>\n",
     "output_type": "error",
     "traceback": [
      "\u001b[0;31m---------------------------------------------------------------------------\u001b[0m",
      "\u001b[0;31mFileNotFoundError\u001b[0m                         Traceback (most recent call last)",
      "\u001b[0;32m<ipython-input-60-dc88bad05fa2>\u001b[0m in \u001b[0;36mStanModel_cache\u001b[0;34m(model_code, model_name, **kwargs)\u001b[0m\n\u001b[1;32m     41\u001b[0m     \u001b[0;32mtry\u001b[0m\u001b[0;34m:\u001b[0m\u001b[0;34m\u001b[0m\u001b[0m\n\u001b[0;32m---> 42\u001b[0;31m         \u001b[0msm\u001b[0m \u001b[0;34m=\u001b[0m \u001b[0mpickle\u001b[0m\u001b[0;34m.\u001b[0m\u001b[0mload\u001b[0m\u001b[0;34m(\u001b[0m\u001b[0mopen\u001b[0m\u001b[0;34m(\u001b[0m\u001b[0mcache_fn\u001b[0m\u001b[0;34m,\u001b[0m \u001b[0;34m'rb'\u001b[0m\u001b[0;34m)\u001b[0m\u001b[0;34m)\u001b[0m \u001b[0;31m# try to load model if it has been stored already\u001b[0m\u001b[0;34m\u001b[0m\u001b[0m\n\u001b[0m\u001b[1;32m     43\u001b[0m     \u001b[0;32mexcept\u001b[0m\u001b[0;34m:\u001b[0m\u001b[0;34m\u001b[0m\u001b[0m\n",
      "\u001b[0;31mFileNotFoundError\u001b[0m: [Errno 2] No such file or directory: 'cached-model-e5039be6565bf91c47383a888ed725b9.pkl'",
      "\nDuring handling of the above exception, another exception occurred:\n",
      "\u001b[0;31mValueError\u001b[0m                                Traceback (most recent call last)",
      "\u001b[0;32m<ipython-input-61-f103d84b371c>\u001b[0m in \u001b[0;36m<module>\u001b[0;34m()\u001b[0m\n\u001b[0;32m----> 1\u001b[0;31m \u001b[0mfit\u001b[0m \u001b[0;34m=\u001b[0m \u001b[0mmain\u001b[0m\u001b[0;34m(\u001b[0m\u001b[0;34m'hierarchical_normal_data.txt'\u001b[0m\u001b[0;34m,\u001b[0m \u001b[0;34m'hierarchical_model.txt'\u001b[0m\u001b[0;34m,\u001b[0m \u001b[0;36m100000\u001b[0m\u001b[0;34m,\u001b[0m \u001b[0;36m1\u001b[0m\u001b[0;34m,\u001b[0m \u001b[0;36m0\u001b[0m\u001b[0;34m)\u001b[0m\u001b[0;34m\u001b[0m\u001b[0m\n\u001b[0m",
      "\u001b[0;32m<ipython-input-60-dc88bad05fa2>\u001b[0m in \u001b[0;36mmain\u001b[0;34m(data_file, model_file, n_iter, n_chains, n_warmup)\u001b[0m\n\u001b[1;32m     84\u001b[0m     \u001b[0mdata\u001b[0m \u001b[0;34m=\u001b[0m \u001b[0mread_in_data\u001b[0m\u001b[0;34m(\u001b[0m\u001b[0mdata_file\u001b[0m\u001b[0;34m)\u001b[0m\u001b[0;34m\u001b[0m\u001b[0m\n\u001b[1;32m     85\u001b[0m     \u001b[0mmodel\u001b[0m \u001b[0;34m=\u001b[0m \u001b[0mread_in_model_code\u001b[0m\u001b[0;34m(\u001b[0m\u001b[0mmodel_file\u001b[0m\u001b[0;34m)\u001b[0m\u001b[0;34m\u001b[0m\u001b[0m\n\u001b[0;32m---> 86\u001b[0;31m     \u001b[0msm\u001b[0m \u001b[0;34m=\u001b[0m \u001b[0minitialize_model\u001b[0m\u001b[0;34m(\u001b[0m\u001b[0mmodel\u001b[0m\u001b[0;34m)\u001b[0m\u001b[0;34m\u001b[0m\u001b[0m\n\u001b[0m\u001b[1;32m     87\u001b[0m     \u001b[0mfit\u001b[0m \u001b[0;34m=\u001b[0m \u001b[0mrun_model\u001b[0m\u001b[0;34m(\u001b[0m\u001b[0msm\u001b[0m\u001b[0;34m,\u001b[0m \u001b[0mdata\u001b[0m\u001b[0;34m,\u001b[0m \u001b[0mn_iter\u001b[0m\u001b[0;34m,\u001b[0m \u001b[0mn_chains\u001b[0m\u001b[0;34m,\u001b[0m \u001b[0mn_warmup\u001b[0m\u001b[0;34m)\u001b[0m\u001b[0;34m\u001b[0m\u001b[0m\n\u001b[1;32m     88\u001b[0m     \u001b[0mwrite_samples_to_csv\u001b[0m\u001b[0;34m(\u001b[0m\u001b[0mfit\u001b[0m\u001b[0;34m)\u001b[0m\u001b[0;34m\u001b[0m\u001b[0m\n",
      "\u001b[0;32m<ipython-input-60-dc88bad05fa2>\u001b[0m in \u001b[0;36minitialize_model\u001b[0;34m(model_code)\u001b[0m\n\u001b[1;32m     51\u001b[0m \u001b[0;34m\u001b[0m\u001b[0m\n\u001b[1;32m     52\u001b[0m \u001b[0;32mdef\u001b[0m \u001b[0minitialize_model\u001b[0m\u001b[0;34m(\u001b[0m\u001b[0mmodel_code\u001b[0m\u001b[0;34m)\u001b[0m\u001b[0;34m:\u001b[0m\u001b[0;34m\u001b[0m\u001b[0m\n\u001b[0;32m---> 53\u001b[0;31m     \u001b[0msm\u001b[0m \u001b[0;34m=\u001b[0m \u001b[0mStanModel_cache\u001b[0m\u001b[0;34m(\u001b[0m\u001b[0mmodel_code\u001b[0m \u001b[0;34m=\u001b[0m \u001b[0mmodel_code\u001b[0m\u001b[0;34m)\u001b[0m\u001b[0;34m\u001b[0m\u001b[0m\n\u001b[0m\u001b[1;32m     54\u001b[0m     \u001b[0;32mreturn\u001b[0m \u001b[0msm\u001b[0m\u001b[0;34m\u001b[0m\u001b[0m\n\u001b[1;32m     55\u001b[0m \u001b[0;34m\u001b[0m\u001b[0m\n",
      "\u001b[0;32m<ipython-input-60-dc88bad05fa2>\u001b[0m in \u001b[0;36mStanModel_cache\u001b[0;34m(model_code, model_name, **kwargs)\u001b[0m\n\u001b[1;32m     42\u001b[0m         \u001b[0msm\u001b[0m \u001b[0;34m=\u001b[0m \u001b[0mpickle\u001b[0m\u001b[0;34m.\u001b[0m\u001b[0mload\u001b[0m\u001b[0;34m(\u001b[0m\u001b[0mopen\u001b[0m\u001b[0;34m(\u001b[0m\u001b[0mcache_fn\u001b[0m\u001b[0;34m,\u001b[0m \u001b[0;34m'rb'\u001b[0m\u001b[0;34m)\u001b[0m\u001b[0;34m)\u001b[0m \u001b[0;31m# try to load model if it has been stored already\u001b[0m\u001b[0;34m\u001b[0m\u001b[0m\n\u001b[1;32m     43\u001b[0m     \u001b[0;32mexcept\u001b[0m\u001b[0;34m:\u001b[0m\u001b[0;34m\u001b[0m\u001b[0m\n\u001b[0;32m---> 44\u001b[0;31m         \u001b[0msm\u001b[0m \u001b[0;34m=\u001b[0m \u001b[0mpystan\u001b[0m\u001b[0;34m.\u001b[0m\u001b[0mStanModel\u001b[0m\u001b[0;34m(\u001b[0m\u001b[0mmodel_code\u001b[0m\u001b[0;34m=\u001b[0m\u001b[0mmodel_code\u001b[0m\u001b[0;34m)\u001b[0m \u001b[0;31m# if model has not been stored compile it\u001b[0m\u001b[0;34m\u001b[0m\u001b[0m\n\u001b[0m\u001b[1;32m     45\u001b[0m         \u001b[0;32mwith\u001b[0m \u001b[0mopen\u001b[0m\u001b[0;34m(\u001b[0m\u001b[0mcache_fn\u001b[0m\u001b[0;34m,\u001b[0m \u001b[0;34m'wb'\u001b[0m\u001b[0;34m)\u001b[0m \u001b[0;32mas\u001b[0m \u001b[0mf\u001b[0m\u001b[0;34m:\u001b[0m \u001b[0;31m# and save it for future use\u001b[0m\u001b[0;34m\u001b[0m\u001b[0m\n\u001b[1;32m     46\u001b[0m             \u001b[0mpickle\u001b[0m\u001b[0;34m.\u001b[0m\u001b[0mdump\u001b[0m\u001b[0;34m(\u001b[0m\u001b[0msm\u001b[0m\u001b[0;34m,\u001b[0m \u001b[0mf\u001b[0m\u001b[0;34m)\u001b[0m\u001b[0;34m\u001b[0m\u001b[0m\n",
      "\u001b[0;32m~/anaconda/lib/python3.6/site-packages/pystan/model.py\u001b[0m in \u001b[0;36m__init__\u001b[0;34m(self, file, charset, model_name, model_code, stanc_ret, boost_lib, eigen_lib, verbose, obfuscate_model_name, extra_compile_args)\u001b[0m\n\u001b[1;32m    211\u001b[0m                                          \u001b[0mmodel_name\u001b[0m\u001b[0;34m=\u001b[0m\u001b[0mmodel_name\u001b[0m\u001b[0;34m,\u001b[0m\u001b[0;34m\u001b[0m\u001b[0m\n\u001b[1;32m    212\u001b[0m                                          \u001b[0mverbose\u001b[0m\u001b[0;34m=\u001b[0m\u001b[0mverbose\u001b[0m\u001b[0;34m,\u001b[0m\u001b[0;34m\u001b[0m\u001b[0m\n\u001b[0;32m--> 213\u001b[0;31m                                          obfuscate_model_name=obfuscate_model_name)\n\u001b[0m\u001b[1;32m    214\u001b[0m \u001b[0;34m\u001b[0m\u001b[0m\n\u001b[1;32m    215\u001b[0m         \u001b[0;32mif\u001b[0m \u001b[0;32mnot\u001b[0m \u001b[0misinstance\u001b[0m\u001b[0;34m(\u001b[0m\u001b[0mstanc_ret\u001b[0m\u001b[0;34m,\u001b[0m \u001b[0mdict\u001b[0m\u001b[0;34m)\u001b[0m\u001b[0;34m:\u001b[0m\u001b[0;34m\u001b[0m\u001b[0m\n",
      "\u001b[0;32m~/anaconda/lib/python3.6/site-packages/pystan/api.py\u001b[0m in \u001b[0;36mstanc\u001b[0;34m(file, charset, model_code, model_name, verbose, obfuscate_model_name)\u001b[0m\n\u001b[1;32m    131\u001b[0m             \u001b[0mmsg\u001b[0m \u001b[0;34m=\u001b[0m \u001b[0mmsg\u001b[0m\u001b[0;34m.\u001b[0m\u001b[0mencode\u001b[0m\u001b[0;34m(\u001b[0m\u001b[0;34m'ascii'\u001b[0m\u001b[0;34m,\u001b[0m \u001b[0;34m'replace'\u001b[0m\u001b[0;34m)\u001b[0m\u001b[0;34m\u001b[0m\u001b[0m\n\u001b[1;32m    132\u001b[0m         \u001b[0merror_msg\u001b[0m \u001b[0;34m=\u001b[0m \u001b[0;34m\"Failed to parse Stan model '{}'. Error message:\\n{}\"\u001b[0m\u001b[0;34m.\u001b[0m\u001b[0mformat\u001b[0m\u001b[0;34m(\u001b[0m\u001b[0mmodel_name\u001b[0m\u001b[0;34m,\u001b[0m \u001b[0mmsg\u001b[0m\u001b[0;34m)\u001b[0m\u001b[0;34m\u001b[0m\u001b[0m\n\u001b[0;32m--> 133\u001b[0;31m         \u001b[0;32mraise\u001b[0m \u001b[0mValueError\u001b[0m\u001b[0;34m(\u001b[0m\u001b[0merror_msg\u001b[0m\u001b[0;34m)\u001b[0m\u001b[0;34m\u001b[0m\u001b[0m\n\u001b[0m\u001b[1;32m    134\u001b[0m     \u001b[0;32melif\u001b[0m \u001b[0mresult\u001b[0m\u001b[0;34m[\u001b[0m\u001b[0;34m'status'\u001b[0m\u001b[0;34m]\u001b[0m \u001b[0;34m==\u001b[0m \u001b[0;36m0\u001b[0m\u001b[0;34m:\u001b[0m  \u001b[0;31m# SUCCESS_RC is 0\u001b[0m\u001b[0;34m\u001b[0m\u001b[0m\n\u001b[1;32m    135\u001b[0m         \u001b[0mlogger\u001b[0m\u001b[0;34m.\u001b[0m\u001b[0mdebug\u001b[0m\u001b[0;34m(\u001b[0m\u001b[0;34m\"Successfully parsed Stan model '{}'.\"\u001b[0m\u001b[0;34m.\u001b[0m\u001b[0mformat\u001b[0m\u001b[0;34m(\u001b[0m\u001b[0mmodel_name\u001b[0m\u001b[0;34m)\u001b[0m\u001b[0;34m)\u001b[0m\u001b[0;34m\u001b[0m\u001b[0m\n",
      "\u001b[0;31mValueError\u001b[0m: Failed to parse Stan model 'anon_model_e5039be6565bf91c47383a888ed725b9'. Error message:\nSYNTAX ERROR, MESSAGE(S) FROM PARSER:\n\n  error in 'unkown file name' at line 8, column 5\n  -------------------------------------------------\n     6:     real C[N[3]]; // values group C\n     7:     real D[N[4]]; // values group D\n     8:     print(A)\n            ^\n     9: }\n  -------------------------------------------------\n\nPARSER EXPECTED: <one of the following:\n  a variable declaration, beginning with type,\n      (int, real, vector, row_vector, matrix, unit_vector,\n       simplex, ordered, positive_ordered,\n       corr_matrix, cov_matrix,\n       cholesky_corr, cholesky_cov\n  or '}' to close variable declarations>\n"
     ]
    }
   ],
   "source": [
    "fit = main('hierarchical_normal_data.txt', 'hierarchical_model.txt', 100000, 1, 0)"
   ]
  },
  {
   "cell_type": "code",
   "execution_count": 55,
   "metadata": {},
   "outputs": [
    {
     "name": "stdout",
     "output_type": "stream",
     "text": [
      "Inference for Stan model: anon_model_234a5a24c057848f5f861d67cf76916e.\n",
      "1 chains, each with iter=100000; warmup=0; thin=1; \n",
      "post-warmup draws per chain=100000, total post-warmup draws=100000.\n",
      "\n",
      "            mean se_mean     sd   2.5%    25%    50%    75%  97.5%  n_eff   Rhat\n",
      "mu         -0.77 1.1e-161.1e-16  -0.77  -0.77  -0.77  -0.77  -0.77      1    nan\n",
      "tau         3.98 2.7e-152.7e-15   3.98   3.98   3.98   3.98   3.98      1    nan\n",
      "sigma       4.19 8.9e-168.9e-16   4.19   4.19   4.19   4.19   4.19      1    nan\n",
      "theta[0]    1.49 2.2e-162.2e-16   1.49   1.49   1.49   1.49   1.49      1    nan\n",
      "theta[1]    1.76 2.2e-162.2e-16   1.76   1.76   1.76   1.76   1.76      1    nan\n",
      "theta[2]   -0.19     0.0    0.0  -0.19  -0.19  -0.19  -0.19  -0.19      1    nan\n",
      "theta[3]   -0.77     0.0    0.0  -0.77  -0.77  -0.77  -0.77  -0.77      1    nan\n",
      "log_tau     1.38 2.2e-162.2e-16   1.38   1.38   1.38   1.38   1.38      1    nan\n",
      "log_sigma   1.43 2.2e-162.2e-16   1.43   1.43   1.43   1.43   1.43      1    nan\n",
      "lp__       -2807 4.5e-134.5e-13  -2807  -2807  -2807  -2807  -2807      1    nan\n",
      "\n",
      "Samples were drawn using NUTS at Tue Oct  3 22:14:12 2017.\n",
      "For each parameter, n_eff is a crude measure of effective sample size,\n",
      "and Rhat is the potential scale reduction factor on split chains (at \n",
      "convergence, Rhat=1).\n"
     ]
    }
   ],
   "source": [
    "print(fit)"
   ]
  },
  {
   "cell_type": "code",
   "execution_count": 46,
   "metadata": {},
   "outputs": [
    {
     "name": "stderr",
     "output_type": "stream",
     "text": [
      "/Users/admin/anaconda/lib/python3.6/site-packages/ipykernel_launcher.py:1: DeprecationWarning: The 'warn' function is deprecated, use 'warning' instead\n",
      "  \"\"\"Entry point for launching an IPython kernel.\n",
      "WARNING:root:`dtypes` ignored when `permuted` is False.\n"
     ]
    }
   ],
   "source": [
    "samples1 = fit.extract(permuted = False)\n",
    "samples2 = fit.extract()"
   ]
  },
  {
   "cell_type": "code",
   "execution_count": 47,
   "metadata": {},
   "outputs": [
    {
     "name": "stdout",
     "output_type": "stream",
     "text": [
      "[[[  1.53550616e+00   6.05524357e+00   2.95409093e+00   5.35658977e-01\n",
      "     1.97200608e-01   8.86599651e-01   1.15168133e+00   1.80092460e+00\n",
      "     1.08319097e+00  -5.55161870e+03]]\n",
      "\n",
      " [[  1.53550616e+00   6.05524357e+00   2.95409093e+00   5.35658977e-01\n",
      "     1.97200608e-01   8.86599651e-01   1.15168133e+00   1.80092460e+00\n",
      "     1.08319097e+00  -5.55161870e+03]]\n",
      "\n",
      " [[  1.53550616e+00   6.05524357e+00   2.95409093e+00   5.35658977e-01\n",
      "     1.97200608e-01   8.86599651e-01   1.15168133e+00   1.80092460e+00\n",
      "     1.08319097e+00  -5.55161870e+03]]\n",
      "\n",
      " [[  1.53550616e+00   6.05524357e+00   2.95409093e+00   5.35658977e-01\n",
      "     1.97200608e-01   8.86599651e-01   1.15168133e+00   1.80092460e+00\n",
      "     1.08319097e+00  -5.55161870e+03]]\n",
      "\n",
      " [[  1.53550616e+00   6.05524357e+00   2.95409093e+00   5.35658977e-01\n",
      "     1.97200608e-01   8.86599651e-01   1.15168133e+00   1.80092460e+00\n",
      "     1.08319097e+00  -5.55161870e+03]]\n",
      "\n",
      " [[  1.53550616e+00   6.05524357e+00   2.95409093e+00   5.35658977e-01\n",
      "     1.97200608e-01   8.86599651e-01   1.15168133e+00   1.80092460e+00\n",
      "     1.08319097e+00  -5.55161870e+03]]\n",
      "\n",
      " [[  1.53550616e+00   6.05524357e+00   2.95409093e+00   5.35658977e-01\n",
      "     1.97200608e-01   8.86599651e-01   1.15168133e+00   1.80092460e+00\n",
      "     1.08319097e+00  -5.55161870e+03]]\n",
      "\n",
      " [[  1.53550616e+00   6.05524357e+00   2.95409093e+00   5.35658977e-01\n",
      "     1.97200608e-01   8.86599651e-01   1.15168133e+00   1.80092460e+00\n",
      "     1.08319097e+00  -5.55161870e+03]]\n",
      "\n",
      " [[  1.53550616e+00   6.05524357e+00   2.95409093e+00   5.35658977e-01\n",
      "     1.97200608e-01   8.86599651e-01   1.15168133e+00   1.80092460e+00\n",
      "     1.08319097e+00  -5.55161870e+03]]\n",
      "\n",
      " [[  1.53550616e+00   6.05524357e+00   2.95409093e+00   5.35658977e-01\n",
      "     1.97200608e-01   8.86599651e-01   1.15168133e+00   1.80092460e+00\n",
      "     1.08319097e+00  -5.55161870e+03]]]\n",
      "OrderedDict([('mu', array([ 1.53550616,  1.53550616,  1.53550616,  1.53550616,  1.53550616,\n",
      "        1.53550616,  1.53550616,  1.53550616,  1.53550616,  1.53550616])), ('tau', array([ 6.05524357,  6.05524357,  6.05524357,  6.05524357,  6.05524357,\n",
      "        6.05524357,  6.05524357,  6.05524357,  6.05524357,  6.05524357])), ('sigma', array([ 2.95409093,  2.95409093,  2.95409093,  2.95409093,  2.95409093,\n",
      "        2.95409093,  2.95409093,  2.95409093,  2.95409093,  2.95409093])), ('theta', array([[ 0.53565898,  0.19720061,  0.88659965,  1.15168133],\n",
      "       [ 0.53565898,  0.19720061,  0.88659965,  1.15168133],\n",
      "       [ 0.53565898,  0.19720061,  0.88659965,  1.15168133],\n",
      "       [ 0.53565898,  0.19720061,  0.88659965,  1.15168133],\n",
      "       [ 0.53565898,  0.19720061,  0.88659965,  1.15168133],\n",
      "       [ 0.53565898,  0.19720061,  0.88659965,  1.15168133],\n",
      "       [ 0.53565898,  0.19720061,  0.88659965,  1.15168133],\n",
      "       [ 0.53565898,  0.19720061,  0.88659965,  1.15168133],\n",
      "       [ 0.53565898,  0.19720061,  0.88659965,  1.15168133],\n",
      "       [ 0.53565898,  0.19720061,  0.88659965,  1.15168133]])), ('log_tau', array([ 1.8009246,  1.8009246,  1.8009246,  1.8009246,  1.8009246,\n",
      "        1.8009246,  1.8009246,  1.8009246,  1.8009246,  1.8009246])), ('log_sigma', array([ 1.08319097,  1.08319097,  1.08319097,  1.08319097,  1.08319097,\n",
      "        1.08319097,  1.08319097,  1.08319097,  1.08319097,  1.08319097])), ('lp__', array([-5551.6187009, -5551.6187009, -5551.6187009, -5551.6187009,\n",
      "       -5551.6187009, -5551.6187009, -5551.6187009, -5551.6187009,\n",
      "       -5551.6187009, -5551.6187009]))])\n"
     ]
    }
   ],
   "source": [
    "print(samples1)\n",
    "print(samples2)"
   ]
  },
  {
   "cell_type": "code",
   "execution_count": 48,
   "metadata": {},
   "outputs": [
    {
     "data": {
      "text/plain": [
       "(10, 1, 10)"
      ]
     },
     "execution_count": 48,
     "metadata": {},
     "output_type": "execute_result"
    }
   ],
   "source": [
    "samples1.shape"
   ]
  },
  {
   "cell_type": "code",
   "execution_count": 49,
   "metadata": {},
   "outputs": [
    {
     "data": {
      "text/plain": [
       "array([ 2.08810073,  2.08810073,  2.08810073, ...,  2.08810073,\n",
       "        2.08810073,  2.08810073])"
      ]
     },
     "execution_count": 49,
     "metadata": {},
     "output_type": "execute_result"
    }
   ],
   "source": [
    "samples[:,1,1]"
   ]
  },
  {
   "cell_type": "code",
   "execution_count": 50,
   "metadata": {},
   "outputs": [
    {
     "data": {
      "text/plain": [
       "array([ 1.53550616,  1.53550616,  1.53550616,  1.53550616,  1.53550616,\n",
       "        1.53550616,  1.53550616,  1.53550616,  1.53550616,  1.53550616])"
      ]
     },
     "execution_count": 50,
     "metadata": {},
     "output_type": "execute_result"
    }
   ],
   "source": [
    "samples2['mu']"
   ]
  },
  {
   "cell_type": "code",
   "execution_count": null,
   "metadata": {
    "collapsed": true
   },
   "outputs": [],
   "source": []
  }
 ],
 "metadata": {
  "kernelspec": {
   "display_name": "Python 3",
   "language": "python",
   "name": "python3"
  },
  "language_info": {
   "codemirror_mode": {
    "name": "ipython",
    "version": 3
   },
   "file_extension": ".py",
   "mimetype": "text/x-python",
   "name": "python",
   "nbconvert_exporter": "python",
   "pygments_lexer": "ipython3",
   "version": "3.6.1"
  }
 },
 "nbformat": 4,
 "nbformat_minor": 2
}
