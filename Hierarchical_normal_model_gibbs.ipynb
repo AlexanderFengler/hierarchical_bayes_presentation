{
 "cells": [
  {
   "cell_type": "code",
   "execution_count": 2,
   "metadata": {
    "collapsed": true
   },
   "outputs": [],
   "source": [
    "# Data: coaguluation time in seconds for blood drawn from 24 animals according to four \n",
    "# different diets\n",
    "data = [[62,60,63,59], \n",
    "        [63,67,71,64,65,66], \n",
    "        [68, 66, 71, 67, 68, 68], \n",
    "        [56, 62, 60, 61, 63, 64, 63, 59]]"
   ]
  },
  {
   "cell_type": "code",
   "execution_count": 4,
   "metadata": {
    "collapsed": true
   },
   "outputs": [],
   "source": [
    "import matplotlib.pyplot as plt\n",
    "import numpy as np\n",
    "from scipy import stats\n",
    "from matplotlib import pylab\n",
    "import pandas as pd\n",
    "from pandas import DataFrame\n",
    "import os"
   ]
  },
  {
   "cell_type": "code",
   "execution_count": 5,
   "metadata": {
    "collapsed": true
   },
   "outputs": [],
   "source": [
    "np.random.seed(123)"
   ]
  },
  {
   "cell_type": "code",
   "execution_count": 1,
   "metadata": {
    "collapsed": true
   },
   "outputs": [],
   "source": [
    "def theta_posterior(j , mi, sigma2, tau2, data):\n",
    "    \"\"\" Evaluates the posterior distribution for the theta parameter of a group.\"\"\"\n",
    "    \n",
    "    num = 1/tau2 * mi + len(data[j])/(sigma2)* np.mean(data[j])\n",
    "    den = 1/tau2 + len(data[j])/sigma2\n",
    "    thetajhat = num/den\n",
    "    varhat = 1/den\n",
    "    \n",
    "    return stats.norm(thetajhat, np.sqrt(varhat))"
   ]
  },
  {
   "cell_type": "code",
   "execution_count": 2,
   "metadata": {},
   "outputs": [
    {
     "name": "stdout",
     "output_type": "stream",
     "text": [
      "Help on function theta_posterior in module __main__:\n",
      "\n",
      "theta_posterior(j, mi, sigma2, tau2, data)\n",
      "    Evaluates the posterior distribution for the theta parameters\n",
      "\n"
     ]
    }
   ],
   "source": [
    "help(theta_posterior)"
   ]
  },
  {
   "cell_type": "code",
   "execution_count": 7,
   "metadata": {},
   "outputs": [],
   "source": [
    "def mi_posterior(theta, tau2):  \n",
    "    \"\"\" Evaluates the posterior distribution for the mi parameter\"\"\"\n",
    "    return stats.norm(np.mean(theta), np.sqrt(tau2/len(theta)))"
   ]
  },
  {
   "cell_type": "code",
   "execution_count": 8,
   "metadata": {
    "collapsed": true
   },
   "outputs": [],
   "source": [
    "def sigma2_posterior(theta, data):\n",
    "    \"\"\" Evaluates the posterior distribution for the sigma^2 parameter\"\"\"\n",
    "    \n",
    "    n_vec = [len(group) for group in data]\n",
    "    n = sum(n_vec)\n",
    "    n_groups = len(data)\n",
    "    a = [np.dot(data[i]-theta[i],data[i]-theta[i]) for i in range(n_groups)]\n",
    "    sigma2hat = sum(a)/n\n",
    "    return stats.invgamma(a = n / 2, scale = n * sigma2hat /2)"
   ]
  },
  {
   "cell_type": "code",
   "execution_count": 9,
   "metadata": {
    "collapsed": true
   },
   "outputs": [],
   "source": [
    "def tau2_posterior(theta, mi):\n",
    "    \"\"\" Evaluates the posterior distribution for the tau^2 parameter\"\"\"\n",
    "    \n",
    "    J = len(theta)\n",
    "    theta = np.array(theta)\n",
    "    tau2hat = np.dot(theta - mi, theta - mi) / (J-1)\n",
    "    return stats.invgamma(a = (J-1)/2, scale = (J-1)* tau2hat /2)"
   ]
  },
  {
   "cell_type": "code",
   "execution_count": 10,
   "metadata": {
    "collapsed": true
   },
   "outputs": [],
   "source": [
    "def set_starting_points(data, nchain):\n",
    "    \"\"\" Sets the initial values for the theta parameter.\n",
    "    \n",
    "    The values are chosen by randomly chosing a value from the data.\n",
    "    \"\"\"\n",
    "    \n",
    "    starting_points = []\n",
    "    for i in range(nchain):\n",
    "        random_start = []\n",
    "        for i in range(len(data)):\n",
    "            random_start.append(np.random.choice(data[i]))        \n",
    "        starting_points.append( random_start)\n",
    "    return starting_points\n",
    "    "
   ]
  },
  {
   "cell_type": "code",
   "execution_count": 14,
   "metadata": {
    "collapsed": true
   },
   "outputs": [],
   "source": [
    "def Gibbs_sampler(data, save = False, nchain = 10, iterations = 1000, dirname = 'Results'):\n",
    "    \"\"\" Approximates the target distribution through the Gibbs sampler. \n",
    "    \n",
    "    The underlying model assumes the presence of J groups whose distribution is assumed to be\n",
    "    normal with same variance (sigma2_j = sigma2 for j=1..J) and different means (mi_j). \n",
    "    The mean parameters (mi_j for j=1..J) are assumed to follow a normal distribution with\n",
    "    mean mi and variance tau2. \n",
    "    A uniform prior distribution is assumed for the joint distribution of \n",
    "    (mi, log(sigma), log(tau)).\n",
    "        \n",
    "    The function returns a dataframe obtained by concatenating the second half of the \n",
    "    values of each chain. Optionally the values for each chain are saved in csv files.\n",
    "    \"\"\"\n",
    "    \n",
    "    ngroups = len(data)\n",
    "    starting_points = set_starting_points(data,nchain)\n",
    "    colnames = ['theta' + str(i+1) for i in range(ngroups)] + ['mi', 'sigma', 'tau']\n",
    "    \n",
    "    mix_chain = DataFrame(columns = colnames)\n",
    "           \n",
    "    for iter_chain in range(nchain):\n",
    "        \n",
    "        theta = starting_points[iter_chain]\n",
    "        chain = DataFrame(columns = colnames)\n",
    "        \n",
    "        mi = np.mean(theta)\n",
    "        sigma2 = sigma2_posterior(theta, data).rvs(size=1)[0]\n",
    "        tau2 = tau2_posterior(theta, mi).rvs(size=1)[0]\n",
    "        \n",
    "        chain.loc[0] = theta + [mi, np.sqrt(sigma2), np.sqrt(tau2)]\n",
    "        \n",
    "        for i in range(iterations-1):\n",
    "    \n",
    "            theta = [theta_posterior(j , mi, sigma2, tau2, data).rvs(size=1)[0] for j in range(len(theta))]    \n",
    "            mi = mi_posterior(theta,tau2).rvs(size=1)[0]   \n",
    "            tau2 = tau2_posterior(theta, mi).rvs(size=1)[0]\n",
    "            sigma2 = sigma2_posterior(theta, data).rvs(size=1)[0]\n",
    "            \n",
    "            chain.loc[i+1] = theta + [mi, np.sqrt(sigma2), np.sqrt(tau2)]\n",
    "            \n",
    "        if save:\n",
    "            current_dir = os.path.dirname('__file__')\n",
    "            if not os.path.exists(os.path.join(current_dir,dirname)):\n",
    "                os.makedirs(dirname)\n",
    "            filename = os.path.join(current_dir, dirname, 'chain'+str(iter_chain+1)+'.csv')\n",
    "            chain.to_csv(filename)\n",
    "                   \n",
    "        mix_chain = pd.concat([mix_chain, chain.tail(int(iterations/2))]).reset_index(drop=True)\n",
    "            \n",
    "    return mix_chain\n",
    "           "
   ]
  },
  {
   "cell_type": "code",
   "execution_count": 12,
   "metadata": {
    "collapsed": true
   },
   "outputs": [],
   "source": [
    "def statistics(dataframe):\n",
    "    \"\"\" Evaluates main quantiles for each column in the dataframe.\"\"\"\n",
    "    \n",
    "    return dataframe.quantile([.05, .25, .5, .75, .95]).transpose()"
   ]
  },
  {
   "cell_type": "code",
   "execution_count": 16,
   "metadata": {},
   "outputs": [],
   "source": [
    "result = Gibbs_sampler(data, save = True)"
   ]
  },
  {
   "cell_type": "code",
   "execution_count": 93,
   "metadata": {},
   "outputs": [
    {
     "data": {
      "text/html": [
       "<div>\n",
       "<style>\n",
       "    .dataframe thead tr:only-child th {\n",
       "        text-align: right;\n",
       "    }\n",
       "\n",
       "    .dataframe thead th {\n",
       "        text-align: left;\n",
       "    }\n",
       "\n",
       "    .dataframe tbody tr th {\n",
       "        vertical-align: top;\n",
       "    }\n",
       "</style>\n",
       "<table border=\"1\" class=\"dataframe\">\n",
       "  <thead>\n",
       "    <tr style=\"text-align: right;\">\n",
       "      <th></th>\n",
       "      <th>0.05</th>\n",
       "      <th>0.25</th>\n",
       "      <th>0.5</th>\n",
       "      <th>0.75</th>\n",
       "      <th>0.95</th>\n",
       "    </tr>\n",
       "  </thead>\n",
       "  <tbody>\n",
       "    <tr>\n",
       "      <th>theta1</th>\n",
       "      <td>59.242838</td>\n",
       "      <td>60.432794</td>\n",
       "      <td>61.259861</td>\n",
       "      <td>62.079330</td>\n",
       "      <td>63.247126</td>\n",
       "    </tr>\n",
       "    <tr>\n",
       "      <th>theta2</th>\n",
       "      <td>64.254470</td>\n",
       "      <td>65.248407</td>\n",
       "      <td>65.914144</td>\n",
       "      <td>66.556151</td>\n",
       "      <td>67.532589</td>\n",
       "    </tr>\n",
       "    <tr>\n",
       "      <th>theta3</th>\n",
       "      <td>66.053438</td>\n",
       "      <td>67.122070</td>\n",
       "      <td>67.769473</td>\n",
       "      <td>68.448851</td>\n",
       "      <td>69.410380</td>\n",
       "    </tr>\n",
       "    <tr>\n",
       "      <th>theta4</th>\n",
       "      <td>59.738199</td>\n",
       "      <td>60.587317</td>\n",
       "      <td>61.156648</td>\n",
       "      <td>61.726947</td>\n",
       "      <td>62.592202</td>\n",
       "    </tr>\n",
       "    <tr>\n",
       "      <th>mi</th>\n",
       "      <td>57.688125</td>\n",
       "      <td>62.243204</td>\n",
       "      <td>63.934638</td>\n",
       "      <td>65.792899</td>\n",
       "      <td>70.093572</td>\n",
       "    </tr>\n",
       "    <tr>\n",
       "      <th>sigma</th>\n",
       "      <td>1.885053</td>\n",
       "      <td>2.165474</td>\n",
       "      <td>2.432425</td>\n",
       "      <td>2.703149</td>\n",
       "      <td>3.213782</td>\n",
       "    </tr>\n",
       "    <tr>\n",
       "      <th>tau</th>\n",
       "      <td>2.198704</td>\n",
       "      <td>3.495862</td>\n",
       "      <td>5.041563</td>\n",
       "      <td>7.955183</td>\n",
       "      <td>19.261650</td>\n",
       "    </tr>\n",
       "  </tbody>\n",
       "</table>\n",
       "</div>"
      ],
      "text/plain": [
       "             0.05       0.25       0.50       0.75       0.95\n",
       "theta1  59.242838  60.432794  61.259861  62.079330  63.247126\n",
       "theta2  64.254470  65.248407  65.914144  66.556151  67.532589\n",
       "theta3  66.053438  67.122070  67.769473  68.448851  69.410380\n",
       "theta4  59.738199  60.587317  61.156648  61.726947  62.592202\n",
       "mi      57.688125  62.243204  63.934638  65.792899  70.093572\n",
       "sigma    1.885053   2.165474   2.432425   2.703149   3.213782\n",
       "tau      2.198704   3.495862   5.041563   7.955183  19.261650"
      ]
     },
     "execution_count": 93,
     "metadata": {},
     "output_type": "execute_result"
    }
   ],
   "source": [
    "statistics(result)"
   ]
  },
  {
   "cell_type": "code",
   "execution_count": null,
   "metadata": {
    "collapsed": true
   },
   "outputs": [],
   "source": []
  }
 ],
 "metadata": {
  "kernelspec": {
   "display_name": "Python 3",
   "language": "python",
   "name": "python3"
  },
  "language_info": {
   "codemirror_mode": {
    "name": "ipython",
    "version": 3
   },
   "file_extension": ".py",
   "mimetype": "text/x-python",
   "name": "python",
   "nbconvert_exporter": "python",
   "pygments_lexer": "ipython3",
   "version": "3.6.1"
  }
 },
 "nbformat": 4,
 "nbformat_minor": 1
}
